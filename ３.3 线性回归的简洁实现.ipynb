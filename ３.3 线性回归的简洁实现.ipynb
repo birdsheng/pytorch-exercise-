{
 "cells": [
  {
   "cell_type": "code",
   "execution_count": 2,
   "metadata": {},
   "outputs": [
    {
     "name": "stdout",
     "output_type": "stream",
     "text": [
      "1.3.1\n"
     ]
    }
   ],
   "source": [
    "'''\n",
    "不再自己写data_iter了，而是调用了torch.utils.data中现成的Data类。\n",
    "net层有好几种写法，请注意各自不同的写法:\n",
    "一层层的自己搭建；使用sequential,add.module();使用orderdict，传入sequential中\n",
    "'''\n",
    "##只有在第三种方法中的，orderdict中，才能使用net[0],否则都是无法调用的～！\n",
    "import torch\n",
    "from torch import nn\n",
    "torch.manual_seed(1)\n",
    "import numpy as np\n",
    "print(torch.__version__)\n",
    "\n",
    "\n",
    "torch.set_default_tensor_type('torch.FloatTensor')"
   ]
  },
  {
   "cell_type": "code",
   "execution_count": 7,
   "metadata": {},
   "outputs": [],
   "source": [
    "num_inputs = 2\n",
    "num_examples = 100\n",
    "features = torch.tensor(np.random.normal(0,1,(num_examples,num_inputs)),\n",
    "                        dtype = torch.float)\n",
    "true_w=[2,-3.4]\n",
    "true_b = 4.2\n",
    "labels = true_w[0]*features[:,0]+true_w[1]*features[:,1]+true_b\n",
    "labels += torch.tensor(np.random.normal(0,1,size=labels.size()),\n",
    "                        dtype=torch.float)\n"
   ]
  },
  {
   "cell_type": "code",
   "execution_count": 11,
   "metadata": {},
   "outputs": [],
   "source": [
    "import torch.utils.data as Data\n",
    "\n",
    "batch_size=10\n",
    "dataset = Data.TensorDataset(features,labels)\n",
    "\n",
    "data_iter = Data.DataLoader(dataset = dataset,\n",
    "                 batch_size=batch_size,\n",
    "                shuffle = True,\n",
    "                num_workers=2)"
   ]
  },
  {
   "cell_type": "code",
   "execution_count": 13,
   "metadata": {},
   "outputs": [
    {
     "name": "stdout",
     "output_type": "stream",
     "text": [
      "tensor([[-0.0847, -1.9533],\n",
      "        [ 0.1818, -0.7697],\n",
      "        [ 1.3193, -1.3604],\n",
      "        [ 0.1089,  2.4880],\n",
      "        [-0.6160, -0.0618],\n",
      "        [-0.4692,  0.6856],\n",
      "        [-0.6841,  0.6192],\n",
      "        [ 0.6832, -2.0028],\n",
      "        [-0.2885, -0.1823],\n",
      "        [-0.6511,  0.9353]]) \n",
      " tensor([11.0283,  7.3269, 12.2236, -4.8378,  4.2431,  1.0104,  0.2454, 14.6034,\n",
      "         4.1227, -0.8126])\n"
     ]
    }
   ],
   "source": [
    "for X,y in data_iter:\n",
    "    print(X,'\\n',y)\n",
    "    break"
   ]
  },
  {
   "cell_type": "code",
   "execution_count": 29,
   "metadata": {},
   "outputs": [
    {
     "name": "stdout",
     "output_type": "stream",
     "text": [
      "LinearNet(\n",
      "  (linear): Linear(in_features=2, out_features=1, bias=True)\n",
      ")\n"
     ]
    }
   ],
   "source": [
    "class LinearNet(nn.Module):\n",
    "    def __init__(self,n_feature):\n",
    "        super(LinearNet,self).__init__()\n",
    "        self.linear = nn.Linear(n_feature,1)\n",
    "        #for m in self.modules():\n",
    "            \n",
    "    def forward(self,x):\n",
    "        y = self.linear(x)\n",
    "        return y\n",
    "net = LinearNet(num_inputs)\n",
    "print(net)"
   ]
  },
  {
   "cell_type": "code",
   "execution_count": 39,
   "metadata": {},
   "outputs": [],
   "source": [
    "#写法一\n",
    "net = nn.Sequential(\n",
    "     nn.Linear(num_inputs,1)\n",
    "     #....\n",
    "    )\n",
    "    #还可以传入其他的层"
   ]
  },
  {
   "cell_type": "code",
   "execution_count": 40,
   "metadata": {},
   "outputs": [],
   "source": [
    "#第二种写法\n",
    "net = nn.Sequential()\n",
    "net.add_module('linear',nn.Linear(num_inputs,1))\n",
    "net.add_module('linear',nn.Linear(num_inputs,1))"
   ]
  },
  {
   "cell_type": "code",
   "execution_count": 43,
   "metadata": {},
   "outputs": [
    {
     "name": "stdout",
     "output_type": "stream",
     "text": [
      "Sequential(\n",
      "  (linear): Linear(in_features=2, out_features=1, bias=True)\n",
      ")\n",
      "Linear(in_features=2, out_features=1, bias=True)\n"
     ]
    }
   ],
   "source": [
    "#第三种写法\n",
    "from collections import OrderedDict\n",
    "net = nn.Sequential(OrderedDict([('linear',nn.Linear(num_inputs,1))\n",
    "                                ##....\n",
    "                                ]))\n",
    "print(net)\n",
    "print(net[0])"
   ]
  },
  {
   "cell_type": "code",
   "execution_count": 44,
   "metadata": {},
   "outputs": [
    {
     "data": {
      "text/plain": [
       "Parameter containing:\n",
       "tensor([0.], requires_grad=True)"
      ]
     },
     "execution_count": 44,
     "metadata": {},
     "output_type": "execute_result"
    }
   ],
   "source": [
    "\n",
    "from torch.nn import init\n",
    "init.normal_(net[0].weight,mean = 0,std=0.01)\n",
    "init.constant_(net[0].bias,val=0.0)\n"
   ]
  },
  {
   "cell_type": "code",
   "execution_count": 30,
   "metadata": {},
   "outputs": [
    {
     "name": "stdout",
     "output_type": "stream",
     "text": [
      "Parameter containing:\n",
      "tensor([[ 0.2157, -0.6361]], requires_grad=True)\n",
      "Parameter containing:\n",
      "tensor([0.5152], requires_grad=True)\n"
     ]
    }
   ],
   "source": [
    "for param in net.parameters():\n",
    "    print(param)"
   ]
  },
  {
   "cell_type": "code",
   "execution_count": 21,
   "metadata": {},
   "outputs": [],
   "source": [
    "loss = nn.MSELoss()"
   ]
  },
  {
   "cell_type": "code",
   "execution_count": 22,
   "metadata": {},
   "outputs": [
    {
     "name": "stdout",
     "output_type": "stream",
     "text": [
      "SGD (\n",
      "Parameter Group 0\n",
      "    dampening: 0\n",
      "    lr: 0.03\n",
      "    momentum: 0\n",
      "    nesterov: False\n",
      "    weight_decay: 0\n",
      ")\n"
     ]
    }
   ],
   "source": [
    "import torch.optim as optim\n",
    "optimizer = optim.SGD(net.parameters(),lr=0.03)\n",
    "print(optimizer)"
   ]
  },
  {
   "cell_type": "code",
   "execution_count": 32,
   "metadata": {},
   "outputs": [
    {
     "name": "stdout",
     "output_type": "stream",
     "text": [
      "epoch 1, loss 26.607801\n",
      "epoch 2, loss 23.177418\n",
      "epoch 3, loss 18.603533\n"
     ]
    }
   ],
   "source": [
    "num_epoch=3\n",
    "for epoch in range(1,num_epoch+1):\n",
    "    for X,y in data_iter:\n",
    "        out = net(X)\n",
    "        l = loss(out,y.view(-1,1))\n",
    "        optimizer.zero_grad()\n",
    "        l.backward()\n",
    "        optimizer.step()\n",
    "    print('epoch %d, loss %f'%(epoch, l.item()))"
   ]
  },
  {
   "cell_type": "code",
   "execution_count": 45,
   "metadata": {},
   "outputs": [
    {
     "name": "stdout",
     "output_type": "stream",
     "text": [
      "[2, -3.4] tensor([[-0.0041, -0.0013]])\n",
      "4.2 tensor([0.])\n"
     ]
    }
   ],
   "source": [
    "dense = net[0]\n",
    "print(true_w,dense.weight.data)\n",
    "print(true_b,dense.bias.data)"
   ]
  }
 ],
 "metadata": {
  "kernelspec": {
   "display_name": "Python [conda env:pytorch] *",
   "language": "python",
   "name": "conda-env-pytorch-py"
  },
  "language_info": {
   "codemirror_mode": {
    "name": "ipython",
    "version": 3
   },
   "file_extension": ".py",
   "mimetype": "text/x-python",
   "name": "python",
   "nbconvert_exporter": "python",
   "pygments_lexer": "ipython3",
   "version": "3.7.7"
  }
 },
 "nbformat": 4,
 "nbformat_minor": 4
}
