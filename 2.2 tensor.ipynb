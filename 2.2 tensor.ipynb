{
 "cells": [
  {
   "cell_type": "code",
   "execution_count": 1,
   "metadata": {},
   "outputs": [],
   "source": [
    "'''\n",
    "torch.manual_seed(0):为cpu设置种子，使得生成的随机数是固定的\n",
    "torch.cuda.manual_seed(0):为gpu设置随机种子，使得生成的随机数是确定的\n",
    "torch.cuda.manual_seed_all(0):为所有的gpu设置随机种子\n",
    "print(torch.__version__)\n",
    "torch.empty(5,3)#未初始化的tensor\n",
    "torch.rand(5,3)#随机初始化\n",
    "torch.zeros(5,3,dtype=torch.long)#创建张量时候可以指定数据类型\n",
    "x = x.new_ones(a,b,dtype=torch.float64)#利用现有tensor进行新建tensor，可以重用dtype和device\n",
    "x = torch.rand_like(x,dtype=torch.float)#和xshape相同，dtype不同\n",
    "（有两种重用，可以重用dtype和device，也可以重用shape）\n",
    "获取tensor形状：tensor.size(),tensor.shape\n",
    "加法的四种形式：x+y,torch.add(x,y),torch.add(x,y,result),y.add_(x)\n",
    "索引切片，类似numpy的操作会共享内存的，在改变数据时候会相互影响\n",
    "x.copy()之后不会共享内存。\n",
    "x.view(a,b)：修改tensor的形状\n",
    ".item()：将标量tensor转化成数字\n",
    "tensor运算满足播的机制，按照最高维度来操作。\n",
    "a.numpy():tensor转化成numpy，torch.from_numpy(a):转化成tensor,这两种共享内存，互相影响\n",
    "torch.tensor(a):将numpy转化成tensor后，不共享内存，一个修改不会影响别的\n",
    "torch.cuda.is_available():\n",
    "device = torch.device('cuda')\n",
    "x=torch.tensor(a,b,device=device)\n",
    "y = y.to(device)\n",
    "print(z.to('cpu',dtype=torch.long)\n",
    "'''"
   ]
  },
  {
   "cell_type": "code",
   "execution_count": 2,
   "metadata": {},
   "outputs": [
    {
     "name": "stdout",
     "output_type": "stream",
     "text": [
      "1.3.1\n"
     ]
    }
   ],
   "source": [
    "import torch\n",
    "torch.manual_seed(0)#为cpu设置种子，使得生成随机数是确定的\n",
    "torch.cuda.manual_seed(0)#为当前GPU设置随机种子\n",
    "print(torch.__version__)"
   ]
  },
  {
   "cell_type": "code",
   "execution_count": 4,
   "metadata": {},
   "outputs": [],
   "source": [
    "torch.cuda.manual_seed_all(0)#为所有的GPU设置随机种子"
   ]
  },
  {
   "cell_type": "code",
   "execution_count": 5,
   "metadata": {},
   "outputs": [
    {
     "name": "stdout",
     "output_type": "stream",
     "text": [
      "tensor([[6.7331e+22, 7.1547e+22, 1.8370e+25],\n",
      "        [6.6635e-33, 4.3612e+27, 8.7518e-04],\n",
      "        [1.1692e-19, 1.5637e-01, 1.3000e+34],\n",
      "        [5.0782e+31, 4.2964e+24, 1.7443e+28],\n",
      "        [1.5686e-07, 3.9996e-14, 1.3563e-19]])\n"
     ]
    }
   ],
   "source": [
    "x = torch.empty(5,3)\n",
    "print(x)"
   ]
  },
  {
   "cell_type": "code",
   "execution_count": 7,
   "metadata": {},
   "outputs": [
    {
     "name": "stdout",
     "output_type": "stream",
     "text": [
      "tensor([[0.4963, 0.7682, 0.0885],\n",
      "        [0.1320, 0.3074, 0.6341],\n",
      "        [0.4901, 0.8964, 0.4556],\n",
      "        [0.6323, 0.3489, 0.4017],\n",
      "        [0.0223, 0.1689, 0.2939]])\n"
     ]
    }
   ],
   "source": [
    "x = torch.rand(5,3)\n",
    "print(x)"
   ]
  },
  {
   "cell_type": "code",
   "execution_count": 8,
   "metadata": {},
   "outputs": [
    {
     "name": "stdout",
     "output_type": "stream",
     "text": [
      "tensor([[0, 0, 0],\n",
      "        [0, 0, 0],\n",
      "        [0, 0, 0],\n",
      "        [0, 0, 0],\n",
      "        [0, 0, 0]])\n"
     ]
    }
   ],
   "source": [
    "x = torch.zeros(5,3,dtype=torch.long)\n",
    "print(x)"
   ]
  },
  {
   "cell_type": "code",
   "execution_count": 12,
   "metadata": {},
   "outputs": [
    {
     "name": "stdout",
     "output_type": "stream",
     "text": [
      "tensor([[0.5185, 0.6977, 0.8000, 0.1610],\n",
      "        [0.2823, 0.6816, 0.9152, 0.3971],\n",
      "        [0.8742, 0.4194, 0.5529, 0.9527],\n",
      "        [0.0362, 0.1852, 0.3734, 0.3051],\n",
      "        [0.9320, 0.1759, 0.2698, 0.1507]])\n"
     ]
    }
   ],
   "source": [
    "x = torch.rand(5,4,dtype=torch.float)\n",
    "print(x)"
   ]
  },
  {
   "cell_type": "code",
   "execution_count": 13,
   "metadata": {},
   "outputs": [
    {
     "name": "stdout",
     "output_type": "stream",
     "text": [
      "tensor([3, 4, 5])\n"
     ]
    }
   ],
   "source": [
    "x= torch.tensor([3,4,5])\n",
    "print(x)"
   ]
  },
  {
   "cell_type": "code",
   "execution_count": 16,
   "metadata": {},
   "outputs": [
    {
     "name": "stdout",
     "output_type": "stream",
     "text": [
      "tensor([[0., 0., 0.],\n",
      "        [0., 0., 0.],\n",
      "        [0., 0., 0.],\n",
      "        [0., 0., 0.],\n",
      "        [0., 0., 0.]], dtype=torch.float64)\n"
     ]
    }
   ],
   "source": [
    "x = x.new_zeros(5,3,dtype=torch.float64)\n",
    "print(x)"
   ]
  },
  {
   "cell_type": "code",
   "execution_count": 19,
   "metadata": {},
   "outputs": [
    {
     "name": "stdout",
     "output_type": "stream",
     "text": [
      "tensor([[0.4369, 0.5191, 0.6159],\n",
      "        [0.8102, 0.9801, 0.1147],\n",
      "        [0.3168, 0.6965, 0.9143],\n",
      "        [0.9351, 0.9412, 0.5995],\n",
      "        [0.0652, 0.5460, 0.1872]])\n"
     ]
    }
   ],
   "source": [
    "x = torch.rand_like(x,dtype=torch.float)\n",
    "print(x)"
   ]
  },
  {
   "cell_type": "code",
   "execution_count": 20,
   "metadata": {},
   "outputs": [
    {
     "name": "stdout",
     "output_type": "stream",
     "text": [
      "torch.Size([5, 3])\n",
      "torch.Size([5, 3])\n"
     ]
    }
   ],
   "source": [
    "print(x.size())\n",
    "print(x.shape)"
   ]
  },
  {
   "cell_type": "code",
   "execution_count": 24,
   "metadata": {},
   "outputs": [
    {
     "name": "stdout",
     "output_type": "stream",
     "text": [
      "tensor([[0.7321, 1.3158, 0.8116],\n",
      "        [1.7639, 1.8227, 0.1930],\n",
      "        [0.6923, 1.2191, 1.4872],\n",
      "        [1.5537, 1.6374, 1.1295],\n",
      "        [0.3212, 1.2826, 0.2076]])\n",
      "tensor([[0.7321, 1.3158, 0.8116],\n",
      "        [1.7639, 1.8227, 0.1930],\n",
      "        [0.6923, 1.2191, 1.4872],\n",
      "        [1.5537, 1.6374, 1.1295],\n",
      "        [0.3212, 1.2826, 0.2076]])\n"
     ]
    }
   ],
   "source": [
    "y=torch.rand(5,3)\n",
    "print(x+y)\n",
    "print(torch.add(x,y))"
   ]
  },
  {
   "cell_type": "code",
   "execution_count": 25,
   "metadata": {},
   "outputs": [
    {
     "name": "stdout",
     "output_type": "stream",
     "text": [
      "tensor([[0.7321, 1.3158, 0.8116],\n",
      "        [1.7639, 1.8227, 0.1930],\n",
      "        [0.6923, 1.2191, 1.4872],\n",
      "        [1.5537, 1.6374, 1.1295],\n",
      "        [0.3212, 1.2826, 0.2076]])\n"
     ]
    }
   ],
   "source": [
    "result = torch.empty(5,3)\n",
    "torch.add(x,y,out=result)\n",
    "print(result)"
   ]
  },
  {
   "cell_type": "code",
   "execution_count": 26,
   "metadata": {},
   "outputs": [
    {
     "name": "stdout",
     "output_type": "stream",
     "text": [
      "tensor([[0.7321, 1.3158, 0.8116],\n",
      "        [1.7639, 1.8227, 0.1930],\n",
      "        [0.6923, 1.2191, 1.4872],\n",
      "        [1.5537, 1.6374, 1.1295],\n",
      "        [0.3212, 1.2826, 0.2076]])\n"
     ]
    }
   ],
   "source": [
    "y.add_(x)\n",
    "print(y)"
   ]
  },
  {
   "cell_type": "code",
   "execution_count": 28,
   "metadata": {},
   "outputs": [
    {
     "name": "stdout",
     "output_type": "stream",
     "text": [
      "tensor([1.4369, 1.5191, 1.6159])\n",
      "tensor([1.4369, 1.5191, 1.6159])\n"
     ]
    }
   ],
   "source": [
    "y=x[0,:]\n",
    "y+=1\n",
    "print(y)\n",
    "print(x[0,:])"
   ]
  },
  {
   "cell_type": "code",
   "execution_count": 30,
   "metadata": {},
   "outputs": [
    {
     "name": "stdout",
     "output_type": "stream",
     "text": [
      "torch.Size([5, 3]) torch.Size([5, 3]) torch.Size([5, 3])\n"
     ]
    }
   ],
   "source": [
    "y=x.view(5,3)\n",
    "z=x.view(-1,3)\n",
    "print(x.size(),y.size(),z.size())"
   ]
  },
  {
   "cell_type": "code",
   "execution_count": 31,
   "metadata": {},
   "outputs": [
    {
     "name": "stdout",
     "output_type": "stream",
     "text": [
      "tensor([[1.4369, 1.5191, 1.6159],\n",
      "        [0.8102, 0.9801, 0.1147],\n",
      "        [0.3168, 0.6965, 0.9143],\n",
      "        [0.9351, 0.9412, 0.5995],\n",
      "        [0.0652, 0.5460, 0.1872]])\n",
      "tensor([2.4369, 2.5191, 2.6159, 1.8102, 1.9801, 1.1147, 1.3168, 1.6965, 1.9143,\n",
      "        1.9351, 1.9412, 1.5995, 1.0652, 1.5460, 1.1872])\n"
     ]
    }
   ],
   "source": [
    "x_cp = x.clone().view(15)\n",
    "x_cp+=1\n",
    "print(x)\n",
    "print(x_cp)"
   ]
  },
  {
   "cell_type": "code",
   "execution_count": 35,
   "metadata": {},
   "outputs": [
    {
     "name": "stdout",
     "output_type": "stream",
     "text": [
      "tensor([0.3986])\n",
      "0.3985816240310669\n"
     ]
    }
   ],
   "source": [
    "x=torch.rand(1)\n",
    "print(x)\n",
    "print(x.item())"
   ]
  },
  {
   "cell_type": "code",
   "execution_count": 39,
   "metadata": {},
   "outputs": [
    {
     "name": "stdout",
     "output_type": "stream",
     "text": [
      "tensor([[1, 2, 3]])\n",
      "tensor([[1],\n",
      "        [2],\n",
      "        [3],\n",
      "        [4]])\n",
      "tensor([[2, 3, 4],\n",
      "        [3, 4, 5],\n",
      "        [4, 5, 6],\n",
      "        [5, 6, 7]])\n",
      "torch.Size([1, 3]) torch.Size([4, 1])\n"
     ]
    }
   ],
   "source": [
    "x = torch.arange(1,4).view(1,3)\n",
    "y = torch.arange(1,5).view(4,1)\n",
    "print(x)\n",
    "print(y)\n",
    "print(x+y)\n",
    "print(x.shape,y.shape)"
   ]
  },
  {
   "cell_type": "code",
   "execution_count": 41,
   "metadata": {},
   "outputs": [
    {
     "name": "stdout",
     "output_type": "stream",
     "text": [
      "False\n",
      "tensor([4, 6])\n"
     ]
    }
   ],
   "source": [
    "x=torch.tensor([1,2])\n",
    "y=torch.tensor([3,4])\n",
    "id_before = id(y)\n",
    "y=y+x\n",
    "print(id(y)==id_before)\n",
    "print(y)"
   ]
  },
  {
   "cell_type": "code",
   "execution_count": 42,
   "metadata": {},
   "outputs": [
    {
     "name": "stdout",
     "output_type": "stream",
     "text": [
      "True\n"
     ]
    }
   ],
   "source": [
    "x=torch.tensor([1,2])\n",
    "y=torch.tensor([3,4])\n",
    "id_before=id(y)\n",
    "y[:]=x+y\n",
    "print(id(y)==id_before)"
   ]
  },
  {
   "cell_type": "code",
   "execution_count": 43,
   "metadata": {},
   "outputs": [
    {
     "name": "stdout",
     "output_type": "stream",
     "text": [
      "True\n"
     ]
    }
   ],
   "source": [
    "x=torch.tensor([1,2])\n",
    "y=torch.tensor([3,4])\n",
    "id_before=id(y)\n",
    "torch.add(x,y,out=y)\n",
    "print(id_before==id(y))"
   ]
  },
  {
   "cell_type": "code",
   "execution_count": 45,
   "metadata": {},
   "outputs": [
    {
     "name": "stdout",
     "output_type": "stream",
     "text": [
      "tensor([1, 2]) [1 2]\n",
      "tensor([2, 3]) [2 3]\n",
      "tensor([3, 4]) [3 4]\n"
     ]
    }
   ],
   "source": [
    "a = torch.tensor([1,2])\n",
    "b = a.numpy()\n",
    "print(a,b)\n",
    "a+=1\n",
    "print(a,b)\n",
    "b+=1\n",
    "print(a,b)"
   ]
  },
  {
   "cell_type": "code",
   "execution_count": 50,
   "metadata": {},
   "outputs": [
    {
     "name": "stdout",
     "output_type": "stream",
     "text": [
      "[1 2] tensor([1, 2])\n",
      "[2 3] tensor([2, 3])\n",
      "[3 4] tensor([3, 4])\n"
     ]
    }
   ],
   "source": [
    "import numpy as np\n",
    "a = np.array([1,2])\n",
    "b=torch.from_numpy(a)\n",
    "print(a,b)\n",
    "a+=1\n",
    "print(a,b)\n",
    "b+=1\n",
    "print(a,b)"
   ]
  },
  {
   "cell_type": "code",
   "execution_count": 51,
   "metadata": {},
   "outputs": [
    {
     "name": "stdout",
     "output_type": "stream",
     "text": [
      "[3 4] tensor([4, 5])\n"
     ]
    }
   ],
   "source": [
    "c= torch.tensor(a)\n",
    "c+=1\n",
    "print(a,c)"
   ]
  },
  {
   "cell_type": "code",
   "execution_count": 54,
   "metadata": {},
   "outputs": [
    {
     "name": "stdout",
     "output_type": "stream",
     "text": [
      "tensor([3, 5, 7], device='cuda:0')\n",
      "tensor([3, 5, 7])\n",
      "tensor([3, 5, 7])\n"
     ]
    }
   ],
   "source": [
    "x = torch.tensor([1,2,3])\n",
    "if torch.cuda.is_available():\n",
    "    device = torch.device('cuda')\n",
    "    y = torch.tensor([2,3,4],device = device)\n",
    "    x = x.to(device)\n",
    "    z=x+y\n",
    "    print(z)\n",
    "    print(z.to('cpu'))\n",
    "    print(z.to('cpu',dtype=torch.long))"
   ]
  },
  {
   "cell_type": "code",
   "execution_count": null,
   "metadata": {},
   "outputs": [],
   "source": []
  }
 ],
 "metadata": {
  "kernelspec": {
   "display_name": "Python [conda env:pytorch] *",
   "language": "python",
   "name": "conda-env-pytorch-py"
  },
  "language_info": {
   "codemirror_mode": {
    "name": "ipython",
    "version": 3
   },
   "file_extension": ".py",
   "mimetype": "text/x-python",
   "name": "python",
   "nbconvert_exporter": "python",
   "pygments_lexer": "ipython3",
   "version": "3.7.7"
  }
 },
 "nbformat": 4,
 "nbformat_minor": 4
}
