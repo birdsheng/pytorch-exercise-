{
 "cells": [
  {
   "cell_type": "code",
   "execution_count": null,
   "metadata": {},
   "outputs": [],
   "source": [
    "'''\n",
    "time模块可以计算程序的运行时间，\n",
    "start = time.time()\n",
    "'程序块'\n",
    "print(time()-start)\n",
    "一定要进行矢量化运算，节省时间！！\n",
    "****发现一个问题：\n",
    "在torch.ones()中，无论传入[]，还是不传入[]，几个数字都是唯度。\n",
    "'''"
   ]
  },
  {
   "cell_type": "code",
   "execution_count": 2,
   "metadata": {},
   "outputs": [
    {
     "name": "stdout",
     "output_type": "stream",
     "text": [
      "1.3.1\n"
     ]
    }
   ],
   "source": [
    "import torch\n",
    "print(torch.__version__)"
   ]
  },
  {
   "cell_type": "code",
   "execution_count": 3,
   "metadata": {},
   "outputs": [],
   "source": [
    "from time import time #计算程序的运行时间，需要用到time模块"
   ]
  },
  {
   "cell_type": "code",
   "execution_count": 4,
   "metadata": {},
   "outputs": [
    {
     "name": "stdout",
     "output_type": "stream",
     "text": [
      "0.22860240936279297\n"
     ]
    }
   ],
   "source": [
    "a = torch.ones(1000)\n",
    "b=torch.ones(1000)\n",
    "start = time()\n",
    "c=torch.zeros(1000)\n",
    "\n",
    "for i in range(1000):\n",
    "    c[i]=a[i]+b[i]\n",
    "print(time()-start)"
   ]
  },
  {
   "cell_type": "code",
   "execution_count": 5,
   "metadata": {},
   "outputs": [
    {
     "name": "stdout",
     "output_type": "stream",
     "text": [
      "0.00041747093200683594\n"
     ]
    }
   ],
   "source": [
    "start = time()\n",
    "c = torch.zeros(1000)\n",
    "c = a+b\n",
    "print(time()-start)"
   ]
  },
  {
   "cell_type": "code",
   "execution_count": 14,
   "metadata": {},
   "outputs": [
    {
     "name": "stdout",
     "output_type": "stream",
     "text": [
      "tensor([[[11.]]])\n",
      "tensor([11., 11., 11.])\n"
     ]
    },
    {
     "data": {
      "text/plain": [
       "torch.Size([1, 1, 1])"
      ]
     },
     "execution_count": 14,
     "metadata": {},
     "output_type": "execute_result"
    }
   ],
   "source": [
    "a = torch.ones([1,1,1])\n",
    "#print(torch.ones(1,2))\n",
    "b = 10\n",
    "c = torch.ones(3)\n",
    "print(a+b)\n",
    "print(b+c)\n",
    "(a.shape)"
   ]
  }
 ],
 "metadata": {
  "kernelspec": {
   "display_name": "Python [conda env:pytorch] *",
   "language": "python",
   "name": "conda-env-pytorch-py"
  },
  "language_info": {
   "codemirror_mode": {
    "name": "ipython",
    "version": 3
   },
   "file_extension": ".py",
   "mimetype": "text/x-python",
   "name": "python",
   "nbconvert_exporter": "python",
   "pygments_lexer": "ipython3",
   "version": "3.7.7"
  }
 },
 "nbformat": 4,
 "nbformat_minor": 4
}
