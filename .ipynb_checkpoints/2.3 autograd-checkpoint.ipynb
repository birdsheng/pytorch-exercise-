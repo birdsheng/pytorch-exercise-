{
 "cells": [
  {
   "cell_type": "code",
   "execution_count": 2,
   "metadata": {},
   "outputs": [
    {
     "data": {
      "text/plain": [
       "'1.3.1'"
      ]
     },
     "execution_count": 2,
     "metadata": {},
     "output_type": "execute_result"
    }
   ],
   "source": [
    "'''\n",
    "requires_grad=True，设置为true以后，就可以在这上面追踪梯度了。缺失情况下默认为False。\n",
    "x.requires_grad_(True)#将属性设置为True\n",
    ".detach()#分离梯度\n",
    "with torch.no_grad()#分离梯度（将下面的代码块分离出来）\n",
    "x.grad:查看梯度\n",
    "x.grad_fn：创建这个tensor的函数\n",
    ".outbackward()#之后，就可以看这个所有这个分支上的变量的梯度了。\n",
    "若是最终计算标量的grad，不需要传入参数，但是最终结果若是向量，就得传入相同\n",
    "维度的权重向量进行加权求和得到一个标量。\n",
    "当一个函数的参数和结果都是向量的时候，这个y关于x的梯度就是一个雅克比矩阵。\n",
    "需要使用torch.autograd这个包为雅克比矩阵进行求梯度。\n",
    "grad在反向传播过程中是累加的，每一次运行反向传播，梯度总会累加之前，所以\n",
    "一般反向传播之前将梯度清零,x.grad.data.zeros_()\n",
    "#想要在计算图（tensor和function组成的一张计算图）中，仅仅是修改tensor的数值，\n",
    "而不是影响到梯度计算（不被autgrad进行记录），可以使用x.data。\n",
    "x.data是一个标量，但是不会对grad有影响，x的值虽然变了，但是梯度还是按照原来x的值进行计算\n",
    "'''\n",
    "\n",
    "import torch\n",
    "torch.__version__"
   ]
  },
  {
   "cell_type": "code",
   "execution_count": 4,
   "metadata": {},
   "outputs": [
    {
     "name": "stdout",
     "output_type": "stream",
     "text": [
      "tensor([[0.4345, 0.1276, 0.3515],\n",
      "        [0.4495, 0.7432, 0.8455]], requires_grad=True)\n",
      "None\n"
     ]
    }
   ],
   "source": [
    "x = torch.rand(2,3,requires_grad = True)\n",
    "print(x)\n",
    "print(x.grad)"
   ]
  },
  {
   "cell_type": "code",
   "execution_count": 6,
   "metadata": {},
   "outputs": [
    {
     "name": "stdout",
     "output_type": "stream",
     "text": [
      "tensor([[2.4345, 2.1276, 2.3515],\n",
      "        [2.4495, 2.7432, 2.8455]], grad_fn=<AddBackward0>)\n",
      "<AddBackward0 object at 0x7f892440ea50>\n"
     ]
    }
   ],
   "source": [
    "y=x+2\n",
    "print(y)\n",
    "print(y.grad_fn)"
   ]
  },
  {
   "cell_type": "code",
   "execution_count": 7,
   "metadata": {},
   "outputs": [
    {
     "name": "stdout",
     "output_type": "stream",
     "text": [
      "True False\n"
     ]
    }
   ],
   "source": [
    "print(x.is_leaf,y.is_leaf)"
   ]
  },
  {
   "cell_type": "code",
   "execution_count": 8,
   "metadata": {},
   "outputs": [
    {
     "name": "stdout",
     "output_type": "stream",
     "text": [
      "tensor([[17.7810, 13.5802, 16.5885],\n",
      "        [17.9997, 22.5758, 24.2905]], grad_fn=<MulBackward0>) tensor(18.8026, grad_fn=<MeanBackward0>)\n"
     ]
    }
   ],
   "source": [
    "z=y*y*3\n",
    "out=z.mean()\n",
    "print(z,out)"
   ]
  },
  {
   "cell_type": "code",
   "execution_count": 10,
   "metadata": {},
   "outputs": [
    {
     "name": "stdout",
     "output_type": "stream",
     "text": [
      "False\n",
      "True\n",
      "<SumBackward0 object at 0x7f894361ed90>\n"
     ]
    }
   ],
   "source": [
    "a = torch.randn(2,2)\n",
    "a =((a*3)/(a-1))\n",
    "print(a.requires_grad)\n",
    "a.requires_grad_(True)\n",
    "print(a.requires_grad)\n",
    "b=(a*a).sum()\n",
    "print(b.grad_fn)"
   ]
  },
  {
   "cell_type": "code",
   "execution_count": 11,
   "metadata": {},
   "outputs": [],
   "source": [
    "out.backward()"
   ]
  },
  {
   "cell_type": "code",
   "execution_count": 12,
   "metadata": {},
   "outputs": [
    {
     "name": "stdout",
     "output_type": "stream",
     "text": [
      "tensor([[2.4345, 2.1276, 2.3515],\n",
      "        [2.4495, 2.7432, 2.8455]])\n"
     ]
    }
   ],
   "source": [
    "print(x.grad)"
   ]
  },
  {
   "cell_type": "code",
   "execution_count": 17,
   "metadata": {},
   "outputs": [
    {
     "name": "stdout",
     "output_type": "stream",
     "text": [
      "tensor([[2., 2., 2.],\n",
      "        [2., 2., 2.]])\n",
      "tensor([[1., 1., 1.],\n",
      "        [1., 1., 1.]])\n"
     ]
    }
   ],
   "source": [
    "out_2 = x.sum()\n",
    "out_2.backward()\n",
    "print(x.grad)\n",
    "out_3 = x.sum()\n",
    "x.grad.data.zero_()\n",
    "out_3.backward()\n",
    "print(x.grad)"
   ]
  },
  {
   "cell_type": "code",
   "execution_count": 19,
   "metadata": {},
   "outputs": [
    {
     "name": "stdout",
     "output_type": "stream",
     "text": [
      "tensor([[2., 4.],\n",
      "        [6., 8.]], grad_fn=<ViewBackward>)\n"
     ]
    }
   ],
   "source": [
    "x=torch.tensor([1.,2.,3.,4.],requires_grad=True)\n",
    "y=2*x\n",
    "z=y.view(2,2)\n",
    "print(z)"
   ]
  },
  {
   "cell_type": "code",
   "execution_count": 20,
   "metadata": {},
   "outputs": [
    {
     "name": "stdout",
     "output_type": "stream",
     "text": [
      "tensor([2.0000, 0.2000, 0.0200, 0.0020])\n"
     ]
    }
   ],
   "source": [
    "v=torch.tensor([[1.,0.1],[0.01,0.001]])\n",
    "z.backward(v)\n",
    "print(x.grad)"
   ]
  },
  {
   "cell_type": "code",
   "execution_count": 22,
   "metadata": {},
   "outputs": [
    {
     "name": "stdout",
     "output_type": "stream",
     "text": [
      "tensor(1., requires_grad=True) True\n",
      "tensor(1., grad_fn=<PowBackward0>) True\n",
      "tensor(1.) False\n",
      "tensor(2., grad_fn=<AddBackward0>) True\n"
     ]
    }
   ],
   "source": [
    "x = torch.tensor(1.0,requires_grad = True)\n",
    "y1 = x**2\n",
    "with torch.no_grad():\n",
    "    y2=x**3\n",
    "y3=y1+y2\n",
    "print(x,x.requires_grad)\n",
    "print(y1,y1.requires_grad)\n",
    "print(y2,y2.requires_grad)\n",
    "print(y3,y3.requires_grad)\n"
   ]
  },
  {
   "cell_type": "code",
   "execution_count": 23,
   "metadata": {},
   "outputs": [
    {
     "name": "stdout",
     "output_type": "stream",
     "text": [
      "tensor(2.)\n"
     ]
    }
   ],
   "source": [
    "y3.backward()\n",
    "print(x.grad)"
   ]
  },
  {
   "cell_type": "code",
   "execution_count": 24,
   "metadata": {},
   "outputs": [
    {
     "name": "stdout",
     "output_type": "stream",
     "text": [
      "tensor(1., requires_grad=True)\n",
      "tensor(1.)\n",
      "False\n",
      "tensor(2.)\n",
      "tensor(100., requires_grad=True)\n"
     ]
    }
   ],
   "source": [
    "x=torch.tensor(1.0,requires_grad=True)\n",
    "print(x)\n",
    "print(x.data)\n",
    "print(x.data.requires_grad)\n",
    "\n",
    "y=2*x\n",
    "x.data*=100\n",
    "y.backward()\n",
    "print(x.grad)\n",
    "print(x)\n"
   ]
  }
 ],
 "metadata": {
  "kernelspec": {
   "display_name": "Python [conda env:pytorch] *",
   "language": "python",
   "name": "conda-env-pytorch-py"
  },
  "language_info": {
   "codemirror_mode": {
    "name": "ipython",
    "version": 3
   },
   "file_extension": ".py",
   "mimetype": "text/x-python",
   "name": "python",
   "nbconvert_exporter": "python",
   "pygments_lexer": "ipython3",
   "version": "3.7.7"
  }
 },
 "nbformat": 4,
 "nbformat_minor": 4
}
