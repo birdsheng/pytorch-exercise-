{
 "cells": [
  {
   "cell_type": "code",
   "execution_count": null,
   "metadata": {},
   "outputs": [],
   "source": [
    "'''\n",
    "torch.randn(a,b):返回一组张量，服从正太分布，均值为０．方差为１\n",
    "np.random.normal(a,b,size,dtype):维度为（ａ，ｂ）的正太分布\n",
    "会自己写一个data_iter函数:根据数据个数生成索引，随机shuffel,\n",
    "执行一个for循环，每一次取一个batch_size数据，使用index_select()在\n",
    "特征和标签上进行切片。\n",
    "注意不足一个batch_size的地方处理min(i+batch_size,num)\n",
    "torch.LongTensor()\n",
    "tensor.index_select(0,j):按行索引，取ｊ个样本\n",
    "'''"
   ]
  },
  {
   "cell_type": "code",
   "execution_count": 3,
   "metadata": {},
   "outputs": [
    {
     "name": "stdout",
     "output_type": "stream",
     "text": [
      "1.3.1\n"
     ]
    }
   ],
   "source": [
    "import torch\n",
    "import numpy as np\n",
    "import matplotlib.pyplot as plt\n",
    "import random\n",
    "from IPython import display\n",
    "print(torch.__version__)"
   ]
  },
  {
   "cell_type": "code",
   "execution_count": null,
   "metadata": {},
   "outputs": [],
   "source": [
    "#生成数据"
   ]
  },
  {
   "cell_type": "code",
   "execution_count": 9,
   "metadata": {},
   "outputs": [],
   "source": [
    "num_inputs=2\n",
    "num_example=1000\n",
    "features = torch.randn(num_example,num_inputs,dtype=torch.float32)\n",
    "true_w = [2,-3.4]\n",
    "true_b=4.2\n",
    "labels = true_w[0]*features[:,0]+true_w[1]*features[:,1]+true_b\n",
    "labels+=torch.tensor(np.random.normal(0,0.01,size=labels.size()),\n",
    "                     dtype = torch.float32)\n"
   ]
  },
  {
   "cell_type": "code",
   "execution_count": 11,
   "metadata": {},
   "outputs": [
    {
     "name": "stdout",
     "output_type": "stream",
     "text": [
      "tensor(3.1644) tensor([1.3414, 1.0955])\n"
     ]
    }
   ],
   "source": [
    "print(labels[0],features[0])"
   ]
  },
  {
   "cell_type": "code",
   "execution_count": 13,
   "metadata": {},
   "outputs": [
    {
     "data": {
      "image/png": "[encoded data removed]",
      "text/plain": [
       "<Figure size 432x288 with 1 Axes>"
      ]
     },
     "metadata": {
      "needs_background": "light"
     },
     "output_type": "display_data"
    }
   ],
   "source": [
    "plt.scatter(features[:,1].numpy(),labels.numpy())\n",
    "plt.show()"
   ]
  },
  {
   "cell_type": "code",
   "execution_count": 19,
   "metadata": {},
   "outputs": [],
   "source": [
    "def data_iter(batch_size,features,labels):\n",
    "    num = len(features)\n",
    "    index = list(range(num))\n",
    "    random.shuffle(index)\n",
    "    for i in range(0,num,batch_size):\n",
    "        j = torch.LongTensor(index[i:min(i+batch_size,num)])\n",
    "        yield features.index_select(0,j), labels.index_select(0,j)"
   ]
  },
  {
   "cell_type": "code",
   "execution_count": 20,
   "metadata": {},
   "outputs": [
    {
     "name": "stdout",
     "output_type": "stream",
     "text": [
      "tensor([[-2.5569, -0.3815],\n",
      "        [ 0.6111,  0.5263],\n",
      "        [-0.3762, -1.9929],\n",
      "        [ 0.8491,  0.4436],\n",
      "        [ 1.0670,  0.0732],\n",
      "        [ 0.3358, -0.5967],\n",
      "        [-0.5461, -0.0958],\n",
      "        [-0.4865,  0.0620],\n",
      "        [-0.3875,  0.4214],\n",
      "        [-1.4454,  0.3972]]) \n",
      " tensor([ 0.3916,  3.6218, 10.2266,  4.3776,  6.0979,  6.8911,  3.4332,  3.0160,\n",
      "         1.9848, -0.0575])\n"
     ]
    }
   ],
   "source": [
    "batch_size=10\n",
    "for X,y in data_iter(batch_size,features,labels):\n",
    "    print(X,'\\n',y)\n",
    "    break"
   ]
  },
  {
   "cell_type": "code",
   "execution_count": 21,
   "metadata": {},
   "outputs": [],
   "source": [
    "w = torch.tensor(np.random.normal(0,0.01,(num_inputs,1)), dtype=torch.float)\n",
    "b= torch.zeros(1,dtype=torch.float)"
   ]
  },
  {
   "cell_type": "code",
   "execution_count": 24,
   "metadata": {},
   "outputs": [
    {
     "data": {
      "text/plain": [
       "tensor([0.], requires_grad=True)"
      ]
     },
     "execution_count": 24,
     "metadata": {},
     "output_type": "execute_result"
    }
   ],
   "source": [
    "w.requires_grad_(requires_grad = True)\n",
    "b.requires_grad_(True)"
   ]
  },
  {
   "cell_type": "code",
   "execution_count": 25,
   "metadata": {},
   "outputs": [],
   "source": [
    "def linereg(X,w,b):\n",
    "    return torch.mm(X,w)+b"
   ]
  },
  {
   "cell_type": "code",
   "execution_count": 26,
   "metadata": {},
   "outputs": [],
   "source": [
    "def square_loss(y_hat,y):\n",
    "    return (y_hat - y.view(y_hat.size()))**2/2"
   ]
  },
  {
   "cell_type": "code",
   "execution_count": 27,
   "metadata": {},
   "outputs": [],
   "source": [
    "def sgd(params,lr,batch_size):\n",
    "    for param in params:\n",
    "        param.data-=lr*param.grad/batch_size"
   ]
  },
  {
   "cell_type": "code",
   "execution_count": 30,
   "metadata": {},
   "outputs": [
    {
     "name": "stdout",
     "output_type": "stream",
     "text": [
      "epoch 1 ,loss 7.788004\n",
      "epoch 2 ,loss 7.890384\n",
      "epoch 3 ,loss 7.777627\n"
     ]
    }
   ],
   "source": [
    "lr = 0.03\n",
    "num_epoch = 3\n",
    "net=linereg\n",
    "loss = square_loss\n",
    "\n",
    "for epoch in range(num_epoch):\n",
    "    for X,y in data_iter(batch_size,features,labels):\n",
    "        l = loss(net(X,w,b),y).sum()\n",
    "        l.backward()\n",
    "        \n",
    "        sgd([w,b],lr,batch_size)\n",
    "        w.grad.data.zero_()\n",
    "        b.grad.data.zero_()\n",
    "    train_l = loss(net(features,w,b),labels)\n",
    "    print('epoch %d ,loss %f'%(epoch+1,train_l.mean().item()))"
   ]
  },
  {
   "cell_type": "code",
   "execution_count": 31,
   "metadata": {},
   "outputs": [
    {
     "name": "stdout",
     "output_type": "stream",
     "text": [
      "[2, -3.4] \n",
      " tensor([[ 0.0281],\n",
      "        [-0.0381]], requires_grad=True)\n",
      "4.2 \n",
      " tensor([4.3502], requires_grad=True)\n"
     ]
    }
   ],
   "source": [
    "print(true_w,'\\n',w)\n",
    "print(true_b,'\\n',b)"
   ]
  },
  {
   "cell_type": "code",
   "execution_count": null,
   "metadata": {},
   "outputs": [],
   "source": []
  }
 ],
 "metadata": {
  "kernelspec": {
   "display_name": "Python [conda env:pytorch] *",
   "language": "python",
   "name": "conda-env-pytorch-py"
  },
  "language_info": {
   "codemirror_mode": {
    "name": "ipython",
    "version": 3
   },
   "file_extension": ".py",
   "mimetype": "text/x-python",
   "name": "python",
   "nbconvert_exporter": "python",
   "pygments_lexer": "ipython3",
   "version": "3.7.7"
  }
 },
 "nbformat": 4,
 "nbformat_minor": 4
}
